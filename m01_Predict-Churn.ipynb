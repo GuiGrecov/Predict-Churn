{
 "cells": [
  {
   "cell_type": "markdown",
   "id": "254c3697",
   "metadata": {},
   "source": [
    "Entregáveis \n",
    "\n",
    "* Análise Descritiva de Dados \n",
    "* Planejamento e Substituição de NA \n",
    "* Lista de Hipótese"
   ]
  },
  {
   "cell_type": "markdown",
   "id": "d0c094cd",
   "metadata": {},
   "source": [
    "# 0. Imports and Fuctions"
   ]
  },
  {
   "cell_type": "code",
   "execution_count": 33,
   "id": "60eb8f78",
   "metadata": {},
   "outputs": [],
   "source": [
    "import inflection\n",
    "import pandas       as pd\n",
    "import numpy        as np\n",
    "import seaborn      as sns"
   ]
  },
  {
   "cell_type": "markdown",
   "id": "743b0985",
   "metadata": {},
   "source": [
    "## 0.1 Helper Functions"
   ]
  },
  {
   "cell_type": "code",
   "execution_count": null,
   "id": "ec9d1dac",
   "metadata": {},
   "outputs": [],
   "source": []
  },
  {
   "cell_type": "markdown",
   "id": "ff38acfe",
   "metadata": {},
   "source": [
    "## 0.2 Loading Data"
   ]
  },
  {
   "cell_type": "code",
   "execution_count": 6,
   "id": "5c61fe2b",
   "metadata": {},
   "outputs": [],
   "source": [
    "df = pd.read_csv(\"datas/churn.csv\")"
   ]
  },
  {
   "cell_type": "markdown",
   "id": "24048585",
   "metadata": {},
   "source": [
    "# 1. Data Describe"
   ]
  },
  {
   "cell_type": "code",
   "execution_count": 9,
   "id": "073b97fc",
   "metadata": {},
   "outputs": [],
   "source": [
    "df1 = df.copy()"
   ]
  },
  {
   "cell_type": "code",
   "execution_count": 12,
   "id": "13aef466",
   "metadata": {},
   "outputs": [
    {
     "data": {
      "text/plain": [
       "RowNumber          0\n",
       "CustomerId         0\n",
       "Surname            0\n",
       "CreditScore        0\n",
       "Geography          0\n",
       "Gender             0\n",
       "Age                0\n",
       "Tenure             0\n",
       "Balance            0\n",
       "NumOfProducts      0\n",
       "HasCrCard          0\n",
       "IsActiveMember     0\n",
       "EstimatedSalary    0\n",
       "Exited             0\n",
       "dtype: int64"
      ]
     },
     "execution_count": 12,
     "metadata": {},
     "output_type": "execute_result"
    }
   ],
   "source": [
    "df1.isna().sum()"
   ]
  },
  {
   "cell_type": "markdown",
   "id": "09e8e93b",
   "metadata": {},
   "source": [
    "## 1.1 Rename Columns"
   ]
  },
  {
   "cell_type": "markdown",
   "id": "dfc325b2",
   "metadata": {},
   "source": [
    "**EXPLICAÇÃO DAS COLUNAS** <br>\n",
    "\n",
    "* RowNumber: O número da coluna\n",
    "* CustomerID: Identificador único do cliente\n",
    "* Surname: Sobrenome do cliente.\n",
    "* CreditScore: A pontuação de Crédito do cliente para o mercado de consumo.\n",
    "* Geography: O país onde o cliente reside.\n",
    "* Gender: O gênero do cliente.\n",
    "* Age: A idade do cliente.\n",
    "* Tenure: Número de anos que o cliente permaneceu ativo.\n",
    "* Balance: Valor monetário que o cliente tem em sua conta bancária.\n",
    "* NumOfProducts: O número de produtos comprado pelo cliente no banco.\n",
    "* HasCrCard: Indica se o cliente possui ou não cartão de crédito.\n",
    "* IsActiveMember: Indica se o cliente fez pelo menos uma movimentação na conta bancário dentro de 12 meses.\n",
    "* EstimateSalary: Estimativa do salário mensal do cliente.\n",
    "* Exited: Indica se o cliente está ou não em Churn."
   ]
  },
  {
   "cell_type": "code",
   "execution_count": 16,
   "id": "42737ed0",
   "metadata": {},
   "outputs": [],
   "source": [
    "cols_old = ['RowNumber', 'CustomerId', 'Surname', 'CreditScore', 'Geography', 'Gender', 'Age', 'Tenure' ,'Balance', 'NumOfProducts', \n",
    "            'HasCrCard', 'IsActiveMember', 'EstimatedSalary', 'Exited']\n",
    "\n",
    "snakecase = lambda x: inflection.underscore( x )\n",
    "\n",
    "cols_new = list( map( snakecase, cols_old ) )\n",
    "\n",
    "# rename\n",
    "df1.columns = cols_new"
   ]
  },
  {
   "cell_type": "markdown",
   "id": "031e5d60",
   "metadata": {},
   "source": [
    "## 1.2 Data Dimensions"
   ]
  },
  {
   "cell_type": "code",
   "execution_count": 18,
   "id": "a442215f",
   "metadata": {},
   "outputs": [
    {
     "name": "stdout",
     "output_type": "stream",
     "text": [
      "Number of Rows: 10000\n",
      "Number of Cols: 14\n"
     ]
    }
   ],
   "source": [
    "print( 'Number of Rows: {}'.format( df1.shape[0] ) )\n",
    "print( 'Number of Cols: {}'.format( df1.shape[1] ) )"
   ]
  },
  {
   "cell_type": "markdown",
   "id": "fa75f634",
   "metadata": {},
   "source": [
    "## 1.3 Data Types "
   ]
  },
  {
   "cell_type": "code",
   "execution_count": 19,
   "id": "5ffa46ac",
   "metadata": {
    "scrolled": false
   },
   "outputs": [
    {
     "data": {
      "text/plain": [
       "row_number            int64\n",
       "customer_id           int64\n",
       "surname              object\n",
       "credit_score          int64\n",
       "geography            object\n",
       "gender               object\n",
       "age                   int64\n",
       "tenure                int64\n",
       "balance             float64\n",
       "num_of_products       int64\n",
       "has_cr_card           int64\n",
       "is_active_member      int64\n",
       "estimated_salary    float64\n",
       "exited                int64\n",
       "dtype: object"
      ]
     },
     "execution_count": 19,
     "metadata": {},
     "output_type": "execute_result"
    }
   ],
   "source": [
    "df1.dtypes"
   ]
  },
  {
   "cell_type": "markdown",
   "id": "fe7d9063",
   "metadata": {},
   "source": [
    "## 1.4 Check NA"
   ]
  },
  {
   "cell_type": "code",
   "execution_count": 20,
   "id": "a6c5ef72",
   "metadata": {
    "scrolled": true
   },
   "outputs": [
    {
     "data": {
      "text/plain": [
       "row_number          0\n",
       "customer_id         0\n",
       "surname             0\n",
       "credit_score        0\n",
       "geography           0\n",
       "gender              0\n",
       "age                 0\n",
       "tenure              0\n",
       "balance             0\n",
       "num_of_products     0\n",
       "has_cr_card         0\n",
       "is_active_member    0\n",
       "estimated_salary    0\n",
       "exited              0\n",
       "dtype: int64"
      ]
     },
     "execution_count": 20,
     "metadata": {},
     "output_type": "execute_result"
    }
   ],
   "source": [
    "df1.isna().sum()"
   ]
  },
  {
   "cell_type": "markdown",
   "id": "5fa98189",
   "metadata": {},
   "source": [
    "## 1.5 Change DataTypes"
   ]
  },
  {
   "cell_type": "code",
   "execution_count": 27,
   "id": "56616eaf",
   "metadata": {},
   "outputs": [],
   "source": [
    "df1['exited'] = df1['exited'].map({1: 'yes', 0: 'no'})\n",
    "df1['is_active_member'] = df1['is_active_member'].map({1: 'yes', 0: 'no'})\n",
    "df1['has_cr_card'] = df1['has_cr_card'].map({1: 'yes', 0: 'no'})"
   ]
  },
  {
   "cell_type": "markdown",
   "id": "cd06e27f",
   "metadata": {},
   "source": [
    "## 1.6 Descriptive Statistics"
   ]
  },
  {
   "cell_type": "code",
   "execution_count": 28,
   "id": "bc77a72a",
   "metadata": {},
   "outputs": [],
   "source": [
    "num_attributes = df1.select_dtypes(exclude='object')\n",
    "cat_attributes = df1.select_dtypes(include='object')"
   ]
  },
  {
   "cell_type": "markdown",
   "id": "acc1e3f1",
   "metadata": {},
   "source": [
    "### 1.6.1 Numerical Atributes"
   ]
  },
  {
   "cell_type": "code",
   "execution_count": 30,
   "id": "d14a63f1",
   "metadata": {
    "scrolled": true
   },
   "outputs": [
    {
     "data": {
      "text/html": [
       "<div>\n",
       "<style scoped>\n",
       "    .dataframe tbody tr th:only-of-type {\n",
       "        vertical-align: middle;\n",
       "    }\n",
       "\n",
       "    .dataframe tbody tr th {\n",
       "        vertical-align: top;\n",
       "    }\n",
       "\n",
       "    .dataframe thead th {\n",
       "        text-align: right;\n",
       "    }\n",
       "</style>\n",
       "<table border=\"1\" class=\"dataframe\">\n",
       "  <thead>\n",
       "    <tr style=\"text-align: right;\">\n",
       "      <th></th>\n",
       "      <th>count</th>\n",
       "      <th>mean</th>\n",
       "      <th>std</th>\n",
       "      <th>min</th>\n",
       "      <th>25%</th>\n",
       "      <th>50%</th>\n",
       "      <th>75%</th>\n",
       "      <th>max</th>\n",
       "      <th>range</th>\n",
       "      <th>variation coefficient</th>\n",
       "      <th>skew</th>\n",
       "      <th>kurtosis</th>\n",
       "    </tr>\n",
       "  </thead>\n",
       "  <tbody>\n",
       "    <tr>\n",
       "      <th>credit_score</th>\n",
       "      <td>10000.0</td>\n",
       "      <td>650.528800</td>\n",
       "      <td>96.653299</td>\n",
       "      <td>350.00</td>\n",
       "      <td>584.00</td>\n",
       "      <td>652.000</td>\n",
       "      <td>718.0000</td>\n",
       "      <td>850.00</td>\n",
       "      <td>500.00</td>\n",
       "      <td>0.148577</td>\n",
       "      <td>-0.071607</td>\n",
       "      <td>-0.425726</td>\n",
       "    </tr>\n",
       "    <tr>\n",
       "      <th>age</th>\n",
       "      <td>10000.0</td>\n",
       "      <td>38.921800</td>\n",
       "      <td>10.487806</td>\n",
       "      <td>18.00</td>\n",
       "      <td>32.00</td>\n",
       "      <td>37.000</td>\n",
       "      <td>44.0000</td>\n",
       "      <td>92.00</td>\n",
       "      <td>74.00</td>\n",
       "      <td>0.269458</td>\n",
       "      <td>1.011320</td>\n",
       "      <td>1.395347</td>\n",
       "    </tr>\n",
       "    <tr>\n",
       "      <th>tenure</th>\n",
       "      <td>10000.0</td>\n",
       "      <td>5.012800</td>\n",
       "      <td>2.892174</td>\n",
       "      <td>0.00</td>\n",
       "      <td>3.00</td>\n",
       "      <td>5.000</td>\n",
       "      <td>7.0000</td>\n",
       "      <td>10.00</td>\n",
       "      <td>10.00</td>\n",
       "      <td>0.576958</td>\n",
       "      <td>0.010991</td>\n",
       "      <td>-1.165225</td>\n",
       "    </tr>\n",
       "    <tr>\n",
       "      <th>balance</th>\n",
       "      <td>10000.0</td>\n",
       "      <td>76485.889288</td>\n",
       "      <td>62397.405202</td>\n",
       "      <td>0.00</td>\n",
       "      <td>0.00</td>\n",
       "      <td>97198.540</td>\n",
       "      <td>127644.2400</td>\n",
       "      <td>250898.09</td>\n",
       "      <td>250898.09</td>\n",
       "      <td>0.815803</td>\n",
       "      <td>-0.141109</td>\n",
       "      <td>-1.489412</td>\n",
       "    </tr>\n",
       "    <tr>\n",
       "      <th>num_of_products</th>\n",
       "      <td>10000.0</td>\n",
       "      <td>1.530200</td>\n",
       "      <td>0.581654</td>\n",
       "      <td>1.00</td>\n",
       "      <td>1.00</td>\n",
       "      <td>1.000</td>\n",
       "      <td>2.0000</td>\n",
       "      <td>4.00</td>\n",
       "      <td>3.00</td>\n",
       "      <td>0.380117</td>\n",
       "      <td>0.745568</td>\n",
       "      <td>0.582981</td>\n",
       "    </tr>\n",
       "    <tr>\n",
       "      <th>estimated_salary</th>\n",
       "      <td>10000.0</td>\n",
       "      <td>100090.239881</td>\n",
       "      <td>57510.492818</td>\n",
       "      <td>11.58</td>\n",
       "      <td>51002.11</td>\n",
       "      <td>100193.915</td>\n",
       "      <td>149388.2475</td>\n",
       "      <td>199992.48</td>\n",
       "      <td>199980.90</td>\n",
       "      <td>0.574586</td>\n",
       "      <td>0.002085</td>\n",
       "      <td>-1.181518</td>\n",
       "    </tr>\n",
       "  </tbody>\n",
       "</table>\n",
       "</div>"
      ],
      "text/plain": [
       "                    count           mean           std     min       25%  \\\n",
       "credit_score      10000.0     650.528800     96.653299  350.00    584.00   \n",
       "age               10000.0      38.921800     10.487806   18.00     32.00   \n",
       "tenure            10000.0       5.012800      2.892174    0.00      3.00   \n",
       "balance           10000.0   76485.889288  62397.405202    0.00      0.00   \n",
       "num_of_products   10000.0       1.530200      0.581654    1.00      1.00   \n",
       "estimated_salary  10000.0  100090.239881  57510.492818   11.58  51002.11   \n",
       "\n",
       "                         50%          75%        max      range  \\\n",
       "credit_score         652.000     718.0000     850.00     500.00   \n",
       "age                   37.000      44.0000      92.00      74.00   \n",
       "tenure                 5.000       7.0000      10.00      10.00   \n",
       "balance            97198.540  127644.2400  250898.09  250898.09   \n",
       "num_of_products        1.000       2.0000       4.00       3.00   \n",
       "estimated_salary  100193.915  149388.2475  199992.48  199980.90   \n",
       "\n",
       "                  variation coefficient      skew  kurtosis  \n",
       "credit_score                   0.148577 -0.071607 -0.425726  \n",
       "age                            0.269458  1.011320  1.395347  \n",
       "tenure                         0.576958  0.010991 -1.165225  \n",
       "balance                        0.815803 -0.141109 -1.489412  \n",
       "num_of_products                0.380117  0.745568  0.582981  \n",
       "estimated_salary               0.574586  0.002085 -1.181518  "
      ]
     },
     "execution_count": 30,
     "metadata": {},
     "output_type": "execute_result"
    }
   ],
   "source": [
    "num_attributes = num_attributes.drop(columns=['row_number', 'customer_id'], axis=1) \n",
    "\n",
    "describe = num_attributes.describe().T\n",
    "\n",
    "describe['range'] = (num_attributes.max() - num_attributes.min()).tolist()\n",
    "describe['variation coefficient'] = (num_attributes.std() / num_attributes.mean()).tolist()\n",
    "describe['skew'] = num_attributes.skew().tolist()\n",
    "describe['kurtosis'] = num_attributes.kurtosis().tolist()\n",
    "\n",
    "describe"
   ]
  },
  {
   "cell_type": "markdown",
   "id": "45eaf718",
   "metadata": {},
   "source": [
    "**credit score** <br>\n",
    "* coeficiente menor do que 15% dados homogêneos\n",
    "* skew ligeiramente negativo pequena concentração para valores maiores\n",
    "\n",
    "<br> \n",
    "\n",
    "**age**\n",
    "* skew positivo concentração de dados para valores mais altos \n",
    "* range de 74 valores\n",
    "* menor idade em 18 anos \n",
    "\n",
    "<br> \n",
    "\n",
    "**tenure**\n",
    "* Número de anos médio de 5 anos \n",
    "* coeficiente de variação em 57% alta dispersão de dados \n",
    "* valor máximo 10 anos (pode ter algo limitante - começo da empresa) \n",
    "\n",
    "<br> \n",
    "\n",
    "**balance**\n",
    "* coeficiente de variação muito alto 87% valores heterogêneos\n",
    "* desvio padrão muito alto\n",
    "* skew negativo concentração para valores mais altos\n",
    "- Mostra uma discrepancia entre valores ganhos da 10000 amostras\n",
    "\n",
    "\n",
    "<br> \n",
    "\n",
    "**num_of_products**\n",
    "* dispersão dentro da média \n",
    "* máximo de produtos 4 \n",
    "\n",
    "<br>\n",
    "\n",
    "**estimated_salary**\n",
    "* desvio padrão maior do que 50% alta dispersão de dados\n",
    "* skew - baixo porém positivo tendendo a valores baixos (salários menores)\n"
   ]
  },
  {
   "cell_type": "markdown",
   "id": "1cfc494d",
   "metadata": {},
   "source": [
    "## 1.6.2 Categorical Atributes"
   ]
  },
  {
   "cell_type": "code",
   "execution_count": 37,
   "id": "499f9ebd",
   "metadata": {},
   "outputs": [
    {
     "data": {
      "text/plain": [
       "France     0.5014\n",
       "Germany    0.2509\n",
       "Spain      0.2477\n",
       "Name: geography, dtype: float64"
      ]
     },
     "execution_count": 37,
     "metadata": {},
     "output_type": "execute_result"
    }
   ],
   "source": [
    "cat_attributes['geography'].value_counts(normalize=True) "
   ]
  },
  {
   "cell_type": "code",
   "execution_count": 38,
   "id": "b4d5432c",
   "metadata": {},
   "outputs": [
    {
     "data": {
      "text/plain": [
       "Male      0.5457\n",
       "Female    0.4543\n",
       "Name: gender, dtype: float64"
      ]
     },
     "execution_count": 38,
     "metadata": {},
     "output_type": "execute_result"
    }
   ],
   "source": [
    "cat_attributes['gender'].value_counts(normalize=True) "
   ]
  },
  {
   "cell_type": "code",
   "execution_count": 39,
   "id": "b492b75f",
   "metadata": {},
   "outputs": [
    {
     "data": {
      "text/plain": [
       "yes    0.5151\n",
       "no     0.4849\n",
       "Name: is_active_member, dtype: float64"
      ]
     },
     "execution_count": 39,
     "metadata": {},
     "output_type": "execute_result"
    }
   ],
   "source": [
    "cat_attributes['is_active_member'].value_counts(normalize=True) "
   ]
  },
  {
   "cell_type": "code",
   "execution_count": 40,
   "id": "6f16690b",
   "metadata": {},
   "outputs": [
    {
     "data": {
      "text/plain": [
       "no     0.7963\n",
       "yes    0.2037\n",
       "Name: exited, dtype: float64"
      ]
     },
     "execution_count": 40,
     "metadata": {},
     "output_type": "execute_result"
    }
   ],
   "source": [
    "cat_attributes['exited'].value_counts(normalize=True) "
   ]
  },
  {
   "cell_type": "markdown",
   "id": "a9d44885",
   "metadata": {},
   "source": [
    "**INTEPRETAÇÃO**\n",
    "* 50% dos clientes moram na França \n",
    "* Gênero está quase equiparável uma diferença de quase 6 p.p para masculinos \n",
    "* 51% não movimentaram a conta bancária nos últimos 12 meses \n",
    "* 20% saíram da empresa por algum motivo -> não estão mais ativos "
   ]
  }
 ],
 "metadata": {
  "kernelspec": {
   "display_name": "Python 3 (ipykernel)",
   "language": "python",
   "name": "python3"
  },
  "language_info": {
   "codemirror_mode": {
    "name": "ipython",
    "version": 3
   },
   "file_extension": ".py",
   "mimetype": "text/x-python",
   "name": "python",
   "nbconvert_exporter": "python",
   "pygments_lexer": "ipython3",
   "version": "3.9.7"
  }
 },
 "nbformat": 4,
 "nbformat_minor": 5
}
